{
 "cells": [
  {
   "cell_type": "code",
   "execution_count": 1,
   "id": "97331d15-826f-4e3d-9104-fc30824c76f6",
   "metadata": {},
   "outputs": [
    {
     "name": "stdout",
     "output_type": "stream",
     "text": [
      "The sum of numbers from 1 to 10 is: 55\n"
     ]
    }
   ],
   "source": [
    "#calculate sum of no from 1-10\n",
    "sum = 0\n",
    "for i in range(1, 11):\n",
    "    sum += i\n",
    "print(\"The sum of numbers from 1 to 10 is:\", sum)"
   ]
  },
  {
   "cell_type": "code",
   "execution_count": 2,
   "id": "6f50cfc1-b1de-4c0d-8b25-68d72d1df114",
   "metadata": {},
   "outputs": [
    {
     "name": "stdout",
     "output_type": "stream",
     "text": [
      "Pandas\n",
      "Numpy\n",
      "Python\n"
     ]
    }
   ],
   "source": [
    "#print items of list in reverse order\n",
    "list = [\"Python\", \"Numpy\", \"Pandas\"]\n",
    "for i in range(len(list)-1, -1, -1):\n",
    "    print(list[i])"
   ]
  },
  {
   "cell_type": "code",
   "execution_count": 3,
   "id": "6f49ecbc-9cce-44ab-8625-d155403a2440",
   "metadata": {},
   "outputs": [
    {
     "name": "stdin",
     "output_type": "stream",
     "text": [
      "Guess a number:  1\n"
     ]
    },
    {
     "name": "stdout",
     "output_type": "stream",
     "text": [
      "Too low!\n"
     ]
    },
    {
     "name": "stdin",
     "output_type": "stream",
     "text": [
      "Guess a number:  6\n"
     ]
    },
    {
     "name": "stdout",
     "output_type": "stream",
     "text": [
      "Too high!\n"
     ]
    },
    {
     "name": "stdin",
     "output_type": "stream",
     "text": [
      "Guess a number:  8\n"
     ]
    },
    {
     "name": "stdout",
     "output_type": "stream",
     "text": [
      "Too high!\n"
     ]
    },
    {
     "name": "stdin",
     "output_type": "stream",
     "text": [
      "Guess a number:  2\n"
     ]
    },
    {
     "name": "stdout",
     "output_type": "stream",
     "text": [
      "Too low!\n"
     ]
    },
    {
     "name": "stdin",
     "output_type": "stream",
     "text": [
      "Guess a number:  3\n"
     ]
    },
    {
     "name": "stdout",
     "output_type": "stream",
     "text": [
      "You guessed it!\n"
     ]
    }
   ],
   "source": [
    "#number guess game\n",
    "number_to_guess = 3\n",
    "guess = None\n",
    "\n",
    "while guess != number_to_guess:\n",
    "    guess = int(input(\"Guess a number: \"))\n",
    "    if guess < number_to_guess:\n",
    "        print(\"Too low!\")\n",
    "    elif guess > number_to_guess:\n",
    "        print(\"Too high!\")\n",
    "    else:\n",
    "        print(\"You guessed it!\")"
   ]
  },
  {
   "cell_type": "code",
   "execution_count": 4,
   "id": "aab40096-9bf5-4043-8221-7f0caa34d9ea",
   "metadata": {},
   "outputs": [
    {
     "name": "stdin",
     "output_type": "stream",
     "text": [
      "Enter something (enter 'done' to exit):  22\n",
      "Enter something (enter 'done' to exit):  amna\n",
      "Enter something (enter 'done' to exit):  python assignment\n",
      "Enter something (enter 'done' to exit):  done\n"
     ]
    },
    {
     "name": "stdout",
     "output_type": "stream",
     "text": [
      "You entered:\n",
      "22\n",
      "amna\n",
      "python assignment\n"
     ]
    }
   ],
   "source": [
    "#while loop that terminates when user write 'done'\n",
    "user_input_list = []\n",
    "\n",
    "while True:\n",
    "    user_input = input(\"Enter something (enter 'done' to exit): \")\n",
    "    if user_input.lower() == \"done\":\n",
    "        break\n",
    "    user_input_list.append(user_input)\n",
    "\n",
    "print(\"You entered:\")\n",
    "for item in user_input_list:\n",
    "    print(item)"
   ]
  },
  {
   "cell_type": "code",
   "execution_count": 5,
   "id": "528fb703-5ae0-4542-ae28-a81951c6d3ed",
   "metadata": {},
   "outputs": [
    {
     "name": "stdout",
     "output_type": "stream",
     "text": [
      "2\n",
      "4\n",
      "6\n",
      "8\n",
      "10\n",
      "12\n",
      "14\n",
      "16\n",
      "18\n",
      "20\n"
     ]
    }
   ],
   "source": [
    "#print even numbers between 1-20\n",
    "def print_even_numbers():\n",
    "    for i in range(1, 21):\n",
    "        if i % 2 == 0:\n",
    "            print(i)\n",
    "\n",
    "print_even_numbers()"
   ]
  },
  {
   "cell_type": "code",
   "execution_count": 7,
   "id": "360c9013-a2ff-4d72-9be3-b9ba9b66751e",
   "metadata": {},
   "outputs": [
    {
     "name": "stdout",
     "output_type": "stream",
     "text": [
      "The number 5 occurs 3 times in the list.\n"
     ]
    }
   ],
   "source": [
    "\n",
    "def count_occurrences(num_list, target):\n",
    "    count = 0\n",
    "    for number in num_list:\n",
    "        if number == target:\n",
    "            count += 1\n",
    "    return count\n",
    "\n",
    "num_list = [1, 1, 3, 4, 5, 6, 5, 8, 5, 10]\n",
    "target = 5\n",
    "print(\"The number\", target, \"occurs\", count_occurrences(num_list, target), \"times in the list.\")"
   ]
  },
  {
   "cell_type": "code",
   "execution_count": 9,
   "id": "880ed47f-b49b-4a9e-89cd-aa3a46756493",
   "metadata": {},
   "outputs": [
    {
     "name": "stdout",
     "output_type": "stream",
     "text": [
      "15\n"
     ]
    }
   ],
   "source": [
    "#basic calculator\n",
    "def calculator(num1, num2, operation):\n",
    "    if operation == \"add\":\n",
    "        return num1 + num2\n",
    "    elif operation == \"subtract\":\n",
    "        return num1 - num2\n",
    "    elif operation == \"multiply\":\n",
    "        return num1 * num2\n",
    "    elif operation == \"divide\":\n",
    "        if num2 == 0:\n",
    "            raise ValueError(\"Cannot divide by zero\")\n",
    "        return num1 / num2\n",
    "    else:\n",
    "        raise ValueError(\"Invalid operation\")\n",
    "\n",
    "num1 = 10\n",
    "num2 = 5\n",
    "operation = \"add\"\n",
    "result = calculator(num1, num2, operation)\n",
    "print(result)"
   ]
  },
  {
   "cell_type": "code",
   "execution_count": 11,
   "id": "5fc15237-2a32-4aed-a699-50d9b884ebb5",
   "metadata": {},
   "outputs": [
    {
     "name": "stdout",
     "output_type": "stream",
     "text": [
      "The maximum number is: 100\n"
     ]
    }
   ],
   "source": [
    "#function that returns the maximum number in the list\n",
    "def find_max(numbers):\n",
    "    if not numbers:\n",
    "        raise ValueError(\"List cannot be empty\")\n",
    "    max_num = numbers[0]\n",
    "    for num in numbers[1:]:\n",
    "        if num > max_num:\n",
    "            max_num = num\n",
    "    return max_num\n",
    "\n",
    "numbers = [1, 3, 5, 6, 8, 11, 22, 45, 100]\n",
    "max_num = find_max(numbers)\n",
    "print(\"The maximum number is:\", max_num)"
   ]
  },
  {
   "cell_type": "code",
   "execution_count": 13,
   "id": "668934bb-c714-4e5b-80ae-fcefe6130d4f",
   "metadata": {},
   "outputs": [
    {
     "name": "stdout",
     "output_type": "stream",
     "text": [
      "The product is: 220\n"
     ]
    }
   ],
   "source": [
    "product = lambda x, y: x * y\n",
    "result = product(22, 10)\n",
    "print(\"The product is:\", result)"
   ]
  },
  {
   "cell_type": "code",
   "execution_count": 14,
   "id": "731243b3-75cc-4c5c-b41d-3e8a422b6f40",
   "metadata": {},
   "outputs": [
    {
     "name": "stdout",
     "output_type": "stream",
     "text": [
      "The even numbers are: [4, 6, 10, 12, 22]\n"
     ]
    }
   ],
   "source": [
    "def filter_even(numbers):\n",
    "    even_numbers = []\n",
    "    for num in numbers:\n",
    "        if num % 2 == 0:\n",
    "            even_numbers.append(num)\n",
    "    return even_numbers\n",
    "\n",
    "numbers = [1, 3, 4, 5, 6, 7, 9, 10, 11, 12, 22, 23]\n",
    "even_numbers = filter_even(numbers)\n",
    "print(\"The even numbers are:\", even_numbers)"
   ]
  },
  {
   "cell_type": "code",
   "execution_count": null,
   "id": "86f114ff-58e6-4992-8dba-5fec33e61abe",
   "metadata": {},
   "outputs": [],
   "source": []
  }
 ],
 "metadata": {
  "kernelspec": {
   "display_name": "Python 3 (ipykernel)",
   "language": "python",
   "name": "python3"
  },
  "language_info": {
   "codemirror_mode": {
    "name": "ipython",
    "version": 3
   },
   "file_extension": ".py",
   "mimetype": "text/x-python",
   "name": "python",
   "nbconvert_exporter": "python",
   "pygments_lexer": "ipython3",
   "version": "3.11.7"
  }
 },
 "nbformat": 4,
 "nbformat_minor": 5
}
